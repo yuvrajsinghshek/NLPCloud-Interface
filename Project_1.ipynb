{
 "cells": [
  {
   "cell_type": "markdown",
   "id": "2fdb0d0e-b3e5-45ac-8c1d-c3a10b7cf350",
   "metadata": {},
   "source": [
    "# we make our fisrt project\n",
    "- for making our project we use nlpcloud website which gives us api to use NLP related models\n",
    "- in this project we make many things :-\n",
    "- 1) programming language detection\n",
    "  2) language detection\n",
    "  3) sentiments analysis\n",
    "\n",
    "Note :- we will not make this project on gui based\n",
    "also we can make more analysis from the api of nlpcloud website"
   ]
  },
  {
   "cell_type": "code",
   "execution_count": 7,
   "id": "55acc8c2-539a-4660-a8f9-b8debb1edcf8",
   "metadata": {},
   "outputs": [
    {
     "name": "stdout",
     "output_type": "stream",
     "text": [
      "Defaulting to user installation because normal site-packages is not writeable\n",
      "Requirement already satisfied: nlpcloud in c:\\users\\yuvra\\appdata\\roaming\\python\\python311\\site-packages (1.1.47)\n",
      "Requirement already satisfied: requests in c:\\users\\yuvra\\appdata\\roaming\\python\\python311\\site-packages (from nlpcloud) (2.32.3)\n",
      "Requirement already satisfied: charset-normalizer<4,>=2 in c:\\users\\yuvra\\appdata\\roaming\\python\\python311\\site-packages (from requests->nlpcloud) (3.3.2)\n",
      "Requirement already satisfied: idna<4,>=2.5 in c:\\users\\yuvra\\appdata\\roaming\\python\\python311\\site-packages (from requests->nlpcloud) (3.10)\n",
      "Requirement already satisfied: urllib3<3,>=1.21.1 in c:\\users\\yuvra\\appdata\\roaming\\python\\python311\\site-packages (from requests->nlpcloud) (2.2.3)\n",
      "Requirement already satisfied: certifi>=2017.4.17 in c:\\users\\yuvra\\appdata\\roaming\\python\\python311\\site-packages (from requests->nlpcloud) (2024.8.30)\n"
     ]
    },
    {
     "name": "stderr",
     "output_type": "stream",
     "text": [
      "\n",
      "[notice] A new release of pip is available: 24.2 -> 25.0\n",
      "[notice] To update, run: python.exe -m pip install --upgrade pip\n"
     ]
    }
   ],
   "source": [
    "# install nlp cloud\n",
    "!pip install nlpcloud"
   ]
  },
  {
   "cell_type": "code",
   "execution_count": 2,
   "id": "11092d3f-8634-4859-a5bd-98e499d454f5",
   "metadata": {},
   "outputs": [
    {
     "data": {
      "text/plain": [
       "{'entities': [{'start': 26,\n",
       "   'end': 36,\n",
       "   'type': 'programming languages',\n",
       "   'text': 'Javascript'},\n",
       "  {'start': 102,\n",
       "   'end': 108,\n",
       "   'type': 'programming languages',\n",
       "   'text': 'Python'},\n",
       "  {'start': 165, 'end': 167, 'type': 'programming languages', 'text': 'Go'}]}"
      ]
     },
     "execution_count": 2,
     "metadata": {},
     "output_type": "execute_result"
    }
   ],
   "source": [
    "# this is the code will put in our ner method for ner\n",
    "\n",
    "import nlpcloud\n",
    "\n",
    "client = nlpcloud.Client(\"finetuned-llama-3-70b\", \"901e7b74d693607bbb5dad92801298d0d317c3f2\", gpu=True)\n",
    "client.entities(\n",
    "    \"\"\"John Doe started learning Javascript when he was 15 years old. After a couple of years he switched to Python and starter learning low level programming. He is now a Go expert at Google.\"\"\",\n",
    "    searched_entity=\"programming languages\"\n",
    ")"
   ]
  },
  {
   "cell_type": "code",
   "execution_count": 3,
   "id": "de097c21-ec23-4066-8e81-a54772357db2",
   "metadata": {},
   "outputs": [
    {
     "name": "stdout",
     "output_type": "stream",
     "text": [
      "['__class__', '__delattr__', '__dict__', '__dir__', '__doc__', '__eq__', '__format__', '__ge__', '__getattribute__', '__getstate__', '__gt__', '__hash__', '__init__', '__init_subclass__', '__le__', '__lt__', '__module__', '__ne__', '__new__', '__reduce__', '__reduce_ex__', '__repr__', '__setattr__', '__sizeof__', '__str__', '__subclasshook__', '__weakref__', 'ad_generation', 'asr', 'async_result', 'chatbot', 'classification', 'code_generation', 'dependencies', 'embeddings', 'entities', 'generation', 'gs_correction', 'headers', 'image_generation', 'intent_classification', 'kw_kp_extraction', 'langdetection', 'paraphrasing', 'question', 'root_url', 'semantic_search', 'semantic_similarity', 'sentence_dependencies', 'sentiment', 'speech_synthesis', 'summarization', 'tokens', 'translation']\n",
      "{'languages': [{'en': 0.8571397010038821}, {'fr': 0.14285849494083339}]}\n"
     ]
    }
   ],
   "source": [
    "# for language detection\n",
    "\n",
    "import nlpcloud\n",
    "\n",
    "client = nlpcloud.Client(\"python-langdetect\", \"901e7b74d693607bbb5dad92801298d0d317c3f2\", gpu=False)\n",
    "print(dir(client))\n",
    "# Call the correct method, like 'language_detection' instead of 'lang_detection'\n",
    "response = client.langdetection(\"\"\"\n",
    "John Doe has been working for Microsoft in Seattle since 1999. Et il parle aussi un peu français.\n",
    "\"\"\")\n",
    "\n",
    "print(response)\n",
    "# if any attr not work properly use dir to know the real method"
   ]
  },
  {
   "cell_type": "code",
   "execution_count": 8,
   "id": "0814f2f6-e2b8-402e-9ff0-4134ca3d4ac8",
   "metadata": {},
   "outputs": [],
   "source": [
    "import nlpcloud\n",
    "\n",
    "class NLPApp:\n",
    "\n",
    "  def __init__(self):\n",
    "    self.__database = {}                      # stores all user interface\n",
    "    self.__first_menu()\n",
    "\n",
    "  def __first_menu(self):\n",
    "    first_input = input('''\n",
    "                  Hi! how would you like to proceed?\n",
    "                  1. Not a member? Register\n",
    "                  2. Already a member? Login\n",
    "                  3. Exit\n",
    "                  ''')\n",
    "    \n",
    "    if first_input == '1':\n",
    "      self.__register()\n",
    "    elif first_input == '2':\n",
    "      self.__login()\n",
    "    else:\n",
    "      exit()\n",
    "\n",
    "  def __second_menu(self):\n",
    "    second_input = input('''\n",
    "                  Hi! how would you like to proceed?\n",
    "                  1. NER\n",
    "                  2. Language Detection\n",
    "                  3. Sentiment Analysis\n",
    "                  4. Logout\n",
    "                  ''')\n",
    "    \n",
    "    if second_input == '1':\n",
    "      self.__ner()\n",
    "    elif second_input == '2':\n",
    "      self.__language_detection()\n",
    "    elif second_input == '3':\n",
    "      self.__sentiment_analysis()\n",
    "    else:\n",
    "      exit()\n",
    "\n",
    "  def __register(self):\n",
    "\n",
    "    name = input(\"Name: \")                               # dont use self bcz we cant access this variables in others methods\n",
    "    email = input(\"E-mail: \")\n",
    "    password = input(\"Password: \")\n",
    "    c_password = input(\"Confirm Password: \")\n",
    "\n",
    "    if email in self.__database:\n",
    "      print(\"Email Already Exist\")\n",
    "    else:\n",
    "      if password == c_password:                        # check password and Confirm password\n",
    "        self.__database[email] = [name,password]        # stores email as key and name,pass as values\n",
    "        print(\"Registration Successful; Now Login\")\n",
    "        print(self.__database)\n",
    "        self.__first_menu()                             # calls __first_menu method\n",
    "      else:\n",
    "        print(\"Wrong Password\")\n",
    "\n",
    "  def __login(self):\n",
    "\n",
    "    email = input(\"E-Mail: \")\n",
    "    password = input(\"Password: \")\n",
    "\n",
    "    if email in self.__database:\n",
    "      if self.__database[email][1] == password:        # check password\n",
    "        print(\"Login Successful\")\n",
    "        self.__second_menu()                           # call __second_menu method\n",
    "      else:\n",
    "        print(\"Wrong Password\")\n",
    "        self.__login()\n",
    "        \n",
    "    else:\n",
    "      print(\"E-Mail was not registered; Please Do Registration first\")\n",
    "      self.__first_menu()\n",
    "\n",
    "  def __ner(self):\n",
    "    # this method detect all term of sports,programming lang etc name in our paragraph by using api of apicloud\n",
    "    # for this we make 2 inputs for paragraph and what we wants to perform\n",
    "    para = input(\"enter the paragraph: \")\n",
    "    search_term = input(\"what would you like to search?\\n\") \n",
    "\n",
    "    client = nlpcloud.Client(\"finetuned-llama-3-70b\", \"901e7b74d693607bbb5dad92801298d0d317c3f2\", gpu=True)\n",
    "    # responce var for putting our paragraph and what term we want to detect\n",
    "    responce = client.entities(para,searched_entity=search_term)\n",
    "    # change paragraph into para var and we put search_term var in searched_entity\n",
    "\n",
    "    print(responce)\n",
    "    self.__second_menu()\n",
    "    \n",
    "\n",
    "  def __language_detection(self):\n",
    "    # for checking what languge we write in paragraph\n",
    "    para = input(\"enter paragraph: \")\n",
    "\n",
    "    client = nlpcloud.Client(\"python-langdetect\", \"901e7b74d693607bbb5dad92801298d0d317c3f2\", gpu=False)\n",
    "    response = client.langdetection(para)\n",
    "\n",
    "    print(response)\n",
    "    self.__second_menu()\n",
    "\n",
    "  def __sentiment_analysis(self):\n",
    "    # give sentiments on the basis of review\n",
    "    review = input(\"what is your review?\\n\")\n",
    "\n",
    "    client = nlpcloud.Client(\"finetuned-llama-3-70b\", \"901e7b74d693607bbb5dad92801298d0d317c3f2\", gpu=True)\n",
    "    response = client.sentiment(review,target=\"NLP Cloud\")\n",
    "\n",
    "    print(response)\n",
    "    self.__second_menu()\n"
   ]
  },
  {
   "cell_type": "code",
   "execution_count": 9,
   "id": "fa87cc32-e91b-4508-a58f-63ee9f9bdb76",
   "metadata": {},
   "outputs": [
    {
     "name": "stdin",
     "output_type": "stream",
     "text": [
      "\n",
      "                  Hi! how would you like to proceed?\n",
      "                  1. Not a member? Register\n",
      "                  2. Already a member? Login\n",
      "                  3. Exit\n",
      "                   1\n",
      "Name:  yuvraj\n",
      "E-mail:  yuvraj@gmail.com\n",
      "Password:  1234\n",
      "Confirm Password:  1234\n"
     ]
    },
    {
     "name": "stdout",
     "output_type": "stream",
     "text": [
      "Registration Successful; Now Login\n",
      "{'yuvraj@gmail.com': ['yuvraj', '1234']}\n"
     ]
    },
    {
     "name": "stdin",
     "output_type": "stream",
     "text": [
      "\n",
      "                  Hi! how would you like to proceed?\n",
      "                  1. Not a member? Register\n",
      "                  2. Already a member? Login\n",
      "                  3. Exit\n",
      "                   2\n",
      "E-Mail:  yuvraj@gmail.com\n",
      "Password:  1234\n"
     ]
    },
    {
     "name": "stdout",
     "output_type": "stream",
     "text": [
      "Login Successful\n"
     ]
    },
    {
     "name": "stdin",
     "output_type": "stream",
     "text": [
      "\n",
      "                  Hi! how would you like to proceed?\n",
      "                  1. NER\n",
      "                  2. Language Detection\n",
      "                  3. Sentiment Analysis\n",
      "                  4. Logout\n",
      "                   1\n",
      "enter the paragraph:  John Doe started learning Javascript when he was 15 years old. After a couple of years he switched to Python and starter learning low level programming. He is now a Go expert at Google.\n",
      "what would you like to search?\n",
      " programming languages\n"
     ]
    },
    {
     "name": "stdout",
     "output_type": "stream",
     "text": [
      "{'entities': [{'start': 26, 'end': 36, 'type': 'programming languages', 'text': 'Javascript'}, {'start': 102, 'end': 108, 'type': 'programming languages', 'text': 'Python'}, {'start': 165, 'end': 167, 'type': 'programming languages', 'text': 'Go'}]}\n"
     ]
    },
    {
     "name": "stdin",
     "output_type": "stream",
     "text": [
      "\n",
      "                  Hi! how would you like to proceed?\n",
      "                  1. NER\n",
      "                  2. Language Detection\n",
      "                  3. Sentiment Analysis\n",
      "                  4. Logout\n",
      "                   2\n",
      "enter paragraph:  hello \n"
     ]
    },
    {
     "name": "stdout",
     "output_type": "stream",
     "text": [
      "{'languages': [{'it': 0.7142840363591557}, {'cy': 0.2857149337353478}]}\n"
     ]
    },
    {
     "name": "stdin",
     "output_type": "stream",
     "text": [
      "\n",
      "                  Hi! how would you like to proceed?\n",
      "                  1. NER\n",
      "                  2. Language Detection\n",
      "                  3. Sentiment Analysis\n",
      "                  4. Logout\n",
      "                   3\n",
      "what is your review?\n",
      " Very intriguing series. Good storytelling. Good characters as in most of them have common sense. Good horror tv. Gory as heck in parts. Lots of mysterious things to ponder. I very much enjoyed season 1 and hope they make another. There's not many good horror tv shows out there anymore. This is a good one imo.\n"
     ]
    },
    {
     "name": "stdout",
     "output_type": "stream",
     "text": [
      "{'scored_labels': [{'label': 'POSITIVE', 'score': 1}, {'label': 'joy', 'score': 1}]}\n"
     ]
    },
    {
     "name": "stdin",
     "output_type": "stream",
     "text": [
      "\n",
      "                  Hi! how would you like to proceed?\n",
      "                  1. NER\n",
      "                  2. Language Detection\n",
      "                  3. Sentiment Analysis\n",
      "                  4. Logout\n",
      "                   4\n"
     ]
    }
   ],
   "source": [
    "acheck1 = NLPApp()"
   ]
  },
  {
   "cell_type": "code",
   "execution_count": null,
   "id": "b5258677-d48f-407c-9994-7c755fef9b71",
   "metadata": {},
   "outputs": [],
   "source": []
  }
 ],
 "metadata": {
  "kernelspec": {
   "display_name": "Python 3 (ipykernel)",
   "language": "python",
   "name": "python3"
  },
  "language_info": {
   "codemirror_mode": {
    "name": "ipython",
    "version": 3
   },
   "file_extension": ".py",
   "mimetype": "text/x-python",
   "name": "python",
   "nbconvert_exporter": "python",
   "pygments_lexer": "ipython3",
   "version": "3.11.4"
  }
 },
 "nbformat": 4,
 "nbformat_minor": 5
}
