{
 "cells": [
  {
   "cell_type": "code",
   "execution_count": 1,
   "id": "b46def48-b9e1-49fb-a1da-16e343fd355c",
   "metadata": {},
   "outputs": [
    {
     "name": "stdout",
     "output_type": "stream",
     "text": [
      "Defaulting to user installation because normal site-packages is not writeable\n",
      "Requirement already satisfied: nlpcloud in c:\\users\\yuvra\\appdata\\roaming\\python\\python311\\site-packages (1.1.47)\n",
      "Requirement already satisfied: requests in c:\\users\\yuvra\\appdata\\roaming\\python\\python311\\site-packages (from nlpcloud) (2.32.3)\n",
      "Requirement already satisfied: charset-normalizer<4,>=2 in c:\\users\\yuvra\\appdata\\roaming\\python\\python311\\site-packages (from requests->nlpcloud) (3.3.2)\n",
      "Requirement already satisfied: idna<4,>=2.5 in c:\\users\\yuvra\\appdata\\roaming\\python\\python311\\site-packages (from requests->nlpcloud) (3.10)\n",
      "Requirement already satisfied: urllib3<3,>=1.21.1 in c:\\users\\yuvra\\appdata\\roaming\\python\\python311\\site-packages (from requests->nlpcloud) (2.2.3)\n",
      "Requirement already satisfied: certifi>=2017.4.17 in c:\\users\\yuvra\\appdata\\roaming\\python\\python311\\site-packages (from requests->nlpcloud) (2024.8.30)\n"
     ]
    },
    {
     "name": "stderr",
     "output_type": "stream",
     "text": [
      "\n",
      "[notice] A new release of pip is available: 24.2 -> 25.0\n",
      "[notice] To update, run: python.exe -m pip install --upgrade pip\n"
     ]
    }
   ],
   "source": [
    "# install nlp cloud\n",
    "!pip install nlpcloud"
   ]
  },
  {
   "cell_type": "code",
   "execution_count": 2,
   "id": "629cd099-2599-4b26-81ac-dae510fd3557",
   "metadata": {},
   "outputs": [],
   "source": [
    "import nlpcloud\n",
    "\n",
    "class NLPApp:\n",
    "\n",
    "  def __init__(self):\n",
    "    self.__database = {}                      # stores all user interface\n",
    "    self.__first_menu()\n",
    "\n",
    "  def __first_menu(self):\n",
    "    first_input = input('''\n",
    "                  Hi! how would you like to proceed?\n",
    "                  1. Not a member? Register\n",
    "                  2. Already a member? Login\n",
    "                  3. Exit\n",
    "                  ''')\n",
    "    \n",
    "    if first_input == '1':\n",
    "      self.__register()\n",
    "    elif first_input == '2':\n",
    "      self.__login()\n",
    "    else:\n",
    "      exit()\n",
    "\n",
    "  def __second_menu(self):\n",
    "    second_input = input('''\n",
    "                  Hi! how would you like to proceed?\n",
    "                  1. NER\n",
    "                  2. Language Detection\n",
    "                  3. Sentiment Analysis\n",
    "                  4. Logout\n",
    "                  ''')\n",
    "    \n",
    "    if second_input == '1':\n",
    "      self.__ner()\n",
    "    elif second_input == '2':\n",
    "      self.__language_detection()\n",
    "    elif second_input == '3':\n",
    "      self.__sentiment_analysis()\n",
    "    else:\n",
    "      exit()\n",
    "\n",
    "  def __register(self):\n",
    "\n",
    "    name = input(\"Name: \")                               \n",
    "    email = input(\"E-mail: \")\n",
    "    password = input(\"Password: \")\n",
    "    c_password = input(\"Confirm Password: \")\n",
    "\n",
    "    if email in self.__database:\n",
    "      print(\"Email Already Exist\")\n",
    "    else:\n",
    "      if password == c_password:                        # check password and Confirm password\n",
    "        self.__database[email] = [name,password]        # stores email as key and name,pass as values\n",
    "        print(\"Registration Successful; Now Login\")\n",
    "        print(self.__database)\n",
    "        self.__first_menu()                             \n",
    "      else:\n",
    "        print(\"Wrong Password\")\n",
    "\n",
    "  def __login(self):\n",
    "\n",
    "    email = input(\"E-Mail: \")\n",
    "    password = input(\"Password: \")\n",
    "\n",
    "    if email in self.__database:\n",
    "      if self.__database[email][1] == password:        # check password\n",
    "        print(\"Login Successful\")\n",
    "        self.__second_menu()                           \n",
    "      else:\n",
    "        print(\"Wrong Password\")\n",
    "        self.__login()\n",
    "        \n",
    "    else:\n",
    "      print(\"E-Mail was not registered; Please Do Registration first\")\n",
    "      self.__first_menu()\n",
    "\n",
    "  def __ner(self):\n",
    "    \n",
    "    para = input(\"enter the paragraph: \")\n",
    "    search_term = input(\"what would you like to search?\\n\") \n",
    "\n",
    "    client = nlpcloud.Client(\"finetuned-llama-3-70b\", \"901e7b74d693607bbb5dad92801298d0d317c3f2\", gpu=True)\n",
    "    \n",
    "    responce = client.entities(para,searched_entity=search_term)\n",
    "    \n",
    "\n",
    "    print(responce)\n",
    "    self.__second_menu()\n",
    "    \n",
    "\n",
    "  def __language_detection(self):\n",
    "    \n",
    "    para = input(\"enter paragraph: \")\n",
    "\n",
    "    client = nlpcloud.Client(\"python-langdetect\", \"901e7b74d693607bbb5dad92801298d0d317c3f2\", gpu=False)\n",
    "    response = client.langdetection(para)\n",
    "\n",
    "    print(response)\n",
    "    self.__second_menu()\n",
    "\n",
    "  def __sentiment_analysis(self):\n",
    "    \n",
    "    review = input(\"what is your review?\\n\")\n",
    "\n",
    "    client = nlpcloud.Client(\"finetuned-llama-3-70b\", \"901e7b74d693607bbb5dad92801298d0d317c3f2\", gpu=True)\n",
    "    response = client.sentiment(review,target=\"NLP Cloud\")\n",
    "\n",
    "    print(response)\n",
    "    self.__second_menu()\n"
   ]
  },
  {
   "cell_type": "code",
   "execution_count": null,
   "id": "1a21756f-3bb4-4eac-8f2f-907060bdba2c",
   "metadata": {},
   "outputs": [
    {
     "name": "stdin",
     "output_type": "stream",
     "text": [
      "\n",
      "                  Hi! how would you like to proceed?\n",
      "                  1. Not a member? Register\n",
      "                  2. Already a member? Login\n",
      "                  3. Exit\n",
      "                   1\n",
      "Name:  yuvraj\n",
      "E-mail:  yuvraj@gmail.com\n",
      "Password:  1234\n",
      "Confirm Password:  1234\n"
     ]
    },
    {
     "name": "stdout",
     "output_type": "stream",
     "text": [
      "Registration Successful; Now Login\n",
      "{'yuvraj@gmail.com': ['yuvraj', '1234']}\n"
     ]
    },
    {
     "name": "stdin",
     "output_type": "stream",
     "text": [
      "\n",
      "                  Hi! how would you like to proceed?\n",
      "                  1. Not a member? Register\n",
      "                  2. Already a member? Login\n",
      "                  3. Exit\n",
      "                   2\n",
      "E-Mail:  yuvraj@gmail.com\n",
      "Password:  1234\n"
     ]
    },
    {
     "name": "stdout",
     "output_type": "stream",
     "text": [
      "Login Successful\n"
     ]
    },
    {
     "name": "stdin",
     "output_type": "stream",
     "text": [
      "\n",
      "                  Hi! how would you like to proceed?\n",
      "                  1. NER\n",
      "                  2. Language Detection\n",
      "                  3. Sentiment Analysis\n",
      "                  4. Logout\n",
      "                   1\n",
      "enter the paragraph:  John Doe started learning Javascript when he was 15 years old. After a couple of years he switched to Python and starter learning low level programming. He is now a Go expert at Google.\n",
      "what would you like to search?\n",
      " programming languages\n"
     ]
    },
    {
     "name": "stdout",
     "output_type": "stream",
     "text": [
      "{'entities': [{'start': 26, 'end': 36, 'type': 'programming languages', 'text': 'Javascript'}, {'start': 102, 'end': 108, 'type': 'programming languages', 'text': 'Python'}, {'start': 165, 'end': 167, 'type': 'programming languages', 'text': 'Go'}]}\n"
     ]
    },
    {
     "name": "stdin",
     "output_type": "stream",
     "text": [
      "\n",
      "                  Hi! how would you like to proceed?\n",
      "                  1. NER\n",
      "                  2. Language Detection\n",
      "                  3. Sentiment Analysis\n",
      "                  4. Logout\n",
      "                   2\n",
      "enter paragraph:  हम सभी को अपनी मेहनत और समर्पण से अपने लक्ष्यों को प्राप्त करने के लिए निरंतर प्रयास करना चाहिए।\n"
     ]
    },
    {
     "name": "stdout",
     "output_type": "stream",
     "text": [
      "{'languages': [{'hi': 0.9999990012301563}]}\n"
     ]
    },
    {
     "name": "stdin",
     "output_type": "stream",
     "text": [
      "\n",
      "                  Hi! how would you like to proceed?\n",
      "                  1. NER\n",
      "                  2. Language Detection\n",
      "                  3. Sentiment Analysis\n",
      "                  4. Logout\n",
      "                   3\n"
     ]
    }
   ],
   "source": [
    "check1 = NLPApp()"
   ]
  },
  {
   "cell_type": "code",
   "execution_count": null,
   "id": "767d2956-5bf0-4b32-9aad-d337a9cdba85",
   "metadata": {},
   "outputs": [],
   "source": []
  }
 ],
 "metadata": {
  "kernelspec": {
   "display_name": "Python 3 (ipykernel)",
   "language": "python",
   "name": "python3"
  },
  "language_info": {
   "codemirror_mode": {
    "name": "ipython",
    "version": 3
   },
   "file_extension": ".py",
   "mimetype": "text/x-python",
   "name": "python",
   "nbconvert_exporter": "python",
   "pygments_lexer": "ipython3",
   "version": "3.11.4"
  }
 },
 "nbformat": 4,
 "nbformat_minor": 5
}
